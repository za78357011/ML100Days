{
 "cells": [
  {
   "cell_type": "markdown",
   "metadata": {
    "id": "9qndwAG5UAKi"
   },
   "source": [
    "作業目標<br>\n",
    "在一個陣列中放入多屬性陣列，進一步對陣列做運算<br>\n",
    "作業重點<br>\n",
    "在建立結構化陣列前需要先設定屬性，在做運算時須注意資料屬性"
   ]
  },
  {
   "cell_type": "markdown",
   "metadata": {
    "id": "48DhzHvBUB2c"
   },
   "source": [
    "題目:<br>\n",
    "name_list = ['小明','小華','小菁','小美','小張','John','Mark','Tom']<br>\n",
    "sex_list = ['boy','boy','girl','girl','boy','boy','boy','boy']<br>\n",
    "weight_list = [67.5,75.3,50.1,45.5,80.8,90.4,78.4,70.7]<br>\n",
    "rank_list = [8,1,5,4,7,6,2,3]<br>\n",
    "myopia_list = [True,True,False,False,True,True,False,False]<br>\n",
    "1. 將上列list依照['name', 'sex', 'weight', 'rank', 'myopia']順序擺入array，並且資料型態順序擺入[Unicode,Unicode,float,int,boolean]<br>\n",
    "2. 呈上題，將array中體重(weight)數據集取出算出全部平均體重\n",
    "3. 呈上題，進一步算出男生(sex欄位是boy)平均體重、女生(sex欄位是girl)平均體重\n"
   ]
  },
  {
   "cell_type": "code",
   "execution_count": 3,
   "metadata": {
    "id": "5n4rAx-9VgVr"
   },
   "outputs": [],
   "source": [
    "import numpy as np "
   ]
  },
  {
   "cell_type": "code",
   "execution_count": 4,
   "metadata": {
    "id": "Vl-wSYQdUBcw"
   },
   "outputs": [],
   "source": [
    "name_list = ['小明','小華','小菁','小美','小張','John','Mark','Tom']\n",
    "sex_list = ['boy','boy','girl','girl','boy','boy','boy','boy']\n",
    "weight_list = [67.5,75.3,50.1,45.5,80.8,90.4,78.4,70.7]\n",
    "rank_list = [8,1,5,4,7,6,2,3]\n",
    "myopia_list = [True,True,False,False,True,True,False,False]"
   ]
  },
  {
   "cell_type": "code",
   "execution_count": 5,
   "metadata": {
    "id": "ElavkYgwVftG"
   },
   "outputs": [],
   "source": [
    "#1. 將上列list依照['name', 'sex', 'weight', 'rank', 'myopia']順序擺入array，並且資料型態順序擺入[Unicode,Unicode,float,int,boolean]"
   ]
  },
  {
   "cell_type": "code",
   "execution_count": 7,
   "metadata": {},
   "outputs": [
    {
     "name": "stdout",
     "output_type": "stream",
     "text": [
      "[('小明', 'boy', 67.5, 8,  True) ('小華', 'boy', 75.3, 1,  True)\n",
      " ('小菁', 'girl', 50.1, 5, False) ('小美', 'girl', 45.5, 4, False)\n",
      " ('小張', 'boy', 80.8, 7,  True) ('John', 'boy', 90.4, 6,  True)\n",
      " ('Mark', 'boy', 78.4, 2, False) ('Tom', 'boy', 70.7, 3, False)]\n"
     ]
    }
   ],
   "source": [
    "import numpy as np \n",
    "dt = np.dtype({'names':('name', 'sex', 'weight', 'rank',\"myopia\"), 'formats':((np.str_, 5), (np.str_, 5), \"f8\", 'i8',\"?\")})\n",
    "c = np.zeros(8,dtype=dt)\n",
    "c[\"name\"]=name_list\n",
    "c[\"sex\"]=sex_list\n",
    "c[\"weight\"]=weight_list\n",
    "c[\"rank\"]=rank_list\n",
    "c[\"myopia\"]=myopia_list\n",
    "print(c)"
   ]
  },
  {
   "cell_type": "code",
   "execution_count": 8,
   "metadata": {
    "id": "N-xffNSVWbP1"
   },
   "outputs": [
    {
     "data": {
      "text/plain": [
       "69.8375"
      ]
     },
     "execution_count": 8,
     "metadata": {},
     "output_type": "execute_result"
    }
   ],
   "source": [
    "#2. 呈上題，將array中體重(weight)數據集取出算出全部平均體重\n",
    "np.mean(c[\"weight\"])"
   ]
  },
  {
   "cell_type": "code",
   "execution_count": 9,
   "metadata": {
    "id": "_LhLg8RiWwEm"
   },
   "outputs": [
    {
     "data": {
      "text/plain": [
       "77.18333333333332"
      ]
     },
     "execution_count": 9,
     "metadata": {},
     "output_type": "execute_result"
    }
   ],
   "source": [
    "#3. 呈上題，進一步算出男生(sex欄位是boy)平均體重\n",
    "c[c[\"sex\"]==\"boy\"][\"weight\"].mean()"
   ]
  },
  {
   "cell_type": "code",
   "execution_count": 10,
   "metadata": {
    "id": "f_J05IPxX6fg"
   },
   "outputs": [
    {
     "data": {
      "text/plain": [
       "47.8"
      ]
     },
     "execution_count": 10,
     "metadata": {},
     "output_type": "execute_result"
    }
   ],
   "source": [
    "#3. 呈上題，進一步算出女生(sex欄位是girl)平均體重\n",
    "c[c[\"sex\"]==\"girl\"][\"weight\"].mean()"
   ]
  }
 ],
 "metadata": {
  "colab": {
   "authorship_tag": "ABX9TyNgR7Bv7joIZkErlgUY/y+3",
   "collapsed_sections": [],
   "name": "作業_Hong題目.ipynb",
   "provenance": []
  },
  "kernelspec": {
   "display_name": "Python 3",
   "language": "python",
   "name": "python3"
  },
  "language_info": {
   "codemirror_mode": {
    "name": "ipython",
    "version": 3
   },
   "file_extension": ".py",
   "mimetype": "text/x-python",
   "name": "python",
   "nbconvert_exporter": "python",
   "pygments_lexer": "ipython3",
   "version": "3.8.5"
  }
 },
 "nbformat": 4,
 "nbformat_minor": 1
}
